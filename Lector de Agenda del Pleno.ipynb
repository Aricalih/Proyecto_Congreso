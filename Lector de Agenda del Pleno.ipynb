{
 "cells": [
  {
   "cell_type": "markdown",
   "metadata": {},
   "source": [
    "### Detector de proyectos priorizados en la Agenda del Pleno"
   ]
  },
  {
   "cell_type": "code",
   "execution_count": 1,
   "metadata": {},
   "outputs": [
    {
     "ename": "ModuleNotFoundError",
     "evalue": "No module named 'fitz'",
     "output_type": "error",
     "traceback": [
      "\u001b[1;31m---------------------------------------------------------------------------\u001b[0m",
      "\u001b[1;31mModuleNotFoundError\u001b[0m                       Traceback (most recent call last)",
      "Cell \u001b[1;32mIn[1], line 1\u001b[0m\n\u001b[1;32m----> 1\u001b[0m \u001b[38;5;28;01mimport\u001b[39;00m \u001b[38;5;21;01mfitz\u001b[39;00m  \u001b[38;5;66;03m# PyMuPDF\u001b[39;00m\n\u001b[0;32m      2\u001b[0m \u001b[38;5;28;01mimport\u001b[39;00m \u001b[38;5;21;01mpandas\u001b[39;00m \u001b[38;5;28;01mas\u001b[39;00m \u001b[38;5;21;01mpd\u001b[39;00m\n\u001b[0;32m      4\u001b[0m \u001b[38;5;66;03m# Cargar el archivo Excel con los números de los proyectos de ley\u001b[39;00m\n",
      "\u001b[1;31mModuleNotFoundError\u001b[0m: No module named 'fitz'"
     ]
    }
   ],
   "source": [
    "import fitz  # PyMuPDF\n",
    "import pandas as pd\n",
    "\n",
    "# Cargar el archivo Excel con los números de los proyectos de ley\n",
    "proyectos_df = pd.read_excel('C:/Users/arica/Documents/GitHub/Proyecto_Congreso/Impacto12marzo24.xlsx')\n",
    "\n",
    "# Mostrar las primeras filas para verificar el contenido\n",
    "proyectos_df.head()\n"
   ]
  },
  {
   "cell_type": "code",
   "execution_count": null,
   "metadata": {},
   "outputs": [],
   "source": [
    "# Abrir el archivo PDF de la Agenda del Pleno\n",
    "doc = fitz.open('C:/Users/arica/Documents/GitHub/Proyecto_Congreso/AGENDA-PLENO-13-14-03-2024.pdf')\n",
    "\n",
    "# Preparar una lista para almacenar los resultados de la búsqueda\n",
    "resultados = []\n",
    "\n",
    "# Recorrer cada número de proyecto de ley del DataFrame\n",
    "for proyecto in proyectos_df['pl']:\n",
    "    encontrado = False\n",
    "    # Buscar el número de proyecto en todas las páginas del documento\n",
    "    for pagina in range(len(doc)):\n",
    "        texto_pagina = doc[pagina].get_text()\n",
    "        if str(proyecto) in texto_pagina:\n",
    "            encontrado = True\n",
    "            resultados.append((proyecto, pagina + 1))  # Añadir +1 porque las páginas empiezan en 0\n",
    "            break  # Salir del bucle de páginas una vez encontrado el proyecto\n",
    "    if not encontrado:\n",
    "        resultados.append((proyecto, 'No encontrado'))\n",
    "\n",
    "# Crear un DataFrame con los resultados\n",
    "resultados_df = pd.DataFrame(resultados, columns=['Proyecto de Ley', 'Página/Estado'])\n",
    "\n",
    "resultados_df"
   ]
  },
  {
   "cell_type": "code",
   "execution_count": null,
   "metadata": {},
   "outputs": [],
   "source": [
    "# Preparar mensajes de alerta según los resultados encontrados anteriormente\n",
    "alertas = []\n",
    "\n",
    "for proyecto, pagina_estado in resultados:\n",
    "    if pagina_estado == 'No encontrado':\n",
    "        mensaje = f\"Proyecto de Ley {proyecto} no se encuentra en la agenda.\"\n",
    "    else:\n",
    "        mensaje = f\"Proyecto de Ley {proyecto} se encuentra en la agenda, puedes ver el detalle en la página {pagina_estado}.\"\n",
    "    alertas.append(mensaje)\n",
    "\n",
    "alertas[:10]  # Mostrar las primeras 10 alertas para revisión"
   ]
  },
  {
   "cell_type": "code",
   "execution_count": null,
   "metadata": {},
   "outputs": [],
   "source": [
    "# Filtrar y mostrar solo las alertas de los proyectos que se encontraron en la agenda\n",
    "alertas_encontradas = [alerta for alerta in alertas if \"se encuentra en la agenda\" in alerta]\n",
    "\n",
    "alertas_encontradas"
   ]
  }
 ],
 "metadata": {
  "kernelspec": {
   "display_name": "Python 3",
   "language": "python",
   "name": "python3"
  },
  "language_info": {
   "codemirror_mode": {
    "name": "ipython",
    "version": 3
   },
   "file_extension": ".py",
   "mimetype": "text/x-python",
   "name": "python",
   "nbconvert_exporter": "python",
   "pygments_lexer": "ipython3",
   "version": "3.11.4"
  }
 },
 "nbformat": 4,
 "nbformat_minor": 2
}
