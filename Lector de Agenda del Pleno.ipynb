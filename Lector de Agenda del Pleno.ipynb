{
 "cells": [
  {
   "cell_type": "markdown",
   "metadata": {},
   "source": [
    "### Detector de proyectos priorizados en la Agenda del Pleno"
   ]
  },
  {
   "cell_type": "code",
   "execution_count": 1,
   "metadata": {},
   "outputs": [
    {
     "name": "stdout",
     "output_type": "stream",
     "text": [
      "Note: you may need to restart the kernel to use updated packages.\n"
     ]
    },
    {
     "name": "stderr",
     "output_type": "stream",
     "text": [
      "\n",
      "[notice] A new release of pip is available: 23.1.2 -> 24.1.1\n",
      "[notice] To update, run: python.exe -m pip install --upgrade pip\n"
     ]
    },
    {
     "name": "stdout",
     "output_type": "stream",
     "text": [
      "Collecting PyPDF2\n",
      "  Downloading pypdf2-3.0.1-py3-none-any.whl (232 kB)\n",
      "                                              0.0/232.6 kB ? eta -:--:--\n",
      "     -                                        10.2/232.6 kB ? eta -:--:--\n",
      "     -                                        10.2/232.6 kB ? eta -:--:--\n",
      "     ----                                  30.7/232.6 kB 217.9 kB/s eta 0:00:01\n",
      "     ------                                41.0/232.6 kB 217.9 kB/s eta 0:00:01\n",
      "     ---------                             61.4/232.6 kB 252.2 kB/s eta 0:00:01\n",
      "     -----------                           71.7/232.6 kB 245.8 kB/s eta 0:00:01\n",
      "     --------------                        92.2/232.6 kB 262.6 kB/s eta 0:00:01\n",
      "     -----------------                    112.6/232.6 kB 285.2 kB/s eta 0:00:01\n",
      "     -----------------                    112.6/232.6 kB 285.2 kB/s eta 0:00:01\n",
      "     -------------------                  122.9/232.6 kB 266.9 kB/s eta 0:00:01\n",
      "     ----------------------               143.4/232.6 kB 293.9 kB/s eta 0:00:01\n",
      "     -----------------------              153.6/232.6 kB 277.8 kB/s eta 0:00:01\n",
      "     --------------------------           174.1/232.6 kB 291.5 kB/s eta 0:00:01\n",
      "     ------------------------------       194.6/232.6 kB 310.3 kB/s eta 0:00:01\n",
      "     -------------------------------      204.8/232.6 kB 296.6 kB/s eta 0:00:01\n",
      "     ------------------------------------ 232.6/232.6 kB 316.3 kB/s eta 0:00:00\n",
      "Requirement already satisfied: pandas in c:\\users\\arica\\appdata\\local\\programs\\python\\python311\\lib\\site-packages (2.1.4)\n",
      "Collecting openpyxl\n",
      "  Downloading openpyxl-3.1.4-py2.py3-none-any.whl (251 kB)\n",
      "                                              0.0/251.4 kB ? eta -:--:--\n",
      "     -                                        10.2/251.4 kB ? eta -:--:--\n",
      "     ----                                  30.7/251.4 kB 445.2 kB/s eta 0:00:01\n",
      "     ------                                41.0/251.4 kB 330.3 kB/s eta 0:00:01\n",
      "     ---------                             61.4/251.4 kB 409.6 kB/s eta 0:00:01\n",
      "     ------------                          81.9/251.4 kB 383.3 kB/s eta 0:00:01\n",
      "     -------------                         92.2/251.4 kB 375.8 kB/s eta 0:00:01\n",
      "     ----------------                     112.6/251.4 kB 409.6 kB/s eta 0:00:01\n",
      "     -----------------                    122.9/251.4 kB 361.0 kB/s eta 0:00:01\n",
      "     --------------------                 143.4/251.4 kB 388.1 kB/s eta 0:00:01\n",
      "     ------------------------             174.1/251.4 kB 389.2 kB/s eta 0:00:01\n",
      "     ---------------------------          194.6/251.4 kB 393.8 kB/s eta 0:00:01\n",
      "     -----------------------------        204.8/251.4 kB 377.8 kB/s eta 0:00:01\n",
      "     --------------------------------     225.3/251.4 kB 393.8 kB/s eta 0:00:01\n",
      "     ------------------------------------ 251.4/251.4 kB 395.9 kB/s eta 0:00:00\n",
      "Requirement already satisfied: numpy<2,>=1.23.2 in c:\\users\\arica\\appdata\\local\\programs\\python\\python311\\lib\\site-packages (from pandas) (1.25.2)\n",
      "Requirement already satisfied: python-dateutil>=2.8.2 in c:\\users\\arica\\appdata\\roaming\\python\\python311\\site-packages (from pandas) (2.8.2)\n",
      "Requirement already satisfied: pytz>=2020.1 in c:\\users\\arica\\appdata\\local\\programs\\python\\python311\\lib\\site-packages (from pandas) (2023.3.post1)\n",
      "Requirement already satisfied: tzdata>=2022.1 in c:\\users\\arica\\appdata\\local\\programs\\python\\python311\\lib\\site-packages (from pandas) (2023.4)\n",
      "Collecting et-xmlfile (from openpyxl)\n",
      "  Downloading et_xmlfile-1.1.0-py3-none-any.whl (4.7 kB)\n",
      "Requirement already satisfied: six>=1.5 in c:\\users\\arica\\appdata\\roaming\\python\\python311\\site-packages (from python-dateutil>=2.8.2->pandas) (1.16.0)\n",
      "Installing collected packages: PyPDF2, et-xmlfile, openpyxl\n",
      "Successfully installed PyPDF2-3.0.1 et-xmlfile-1.1.0 openpyxl-3.1.4\n"
     ]
    }
   ],
   "source": [
    "pip install PyPDF2 pandas openpyxl"
   ]
  },
  {
   "cell_type": "code",
   "execution_count": 4,
   "metadata": {},
   "outputs": [],
   "source": [
    "import PyPDF2\n",
    "import pandas as pd"
   ]
  },
  {
   "cell_type": "code",
   "execution_count": null,
   "metadata": {},
   "outputs": [],
   "source": [
    "#Función para extraer texto del PDF: \n",
    "\n",
    "def extract_text_from_pdf(pdf_path):\n",
    "    pdf_reader = PyPDF2.PdfFileReader(pdf_path)\n",
    "    text = ''\n",
    "    for page_num in range(pdf_reader.numPages):\n",
    "        page = pdf_reader.getPage(page_num)\n",
    "        text += page.extract_text()\n",
    "\n",
    "    return text\n"
   ]
  },
  {
   "cell_type": "code",
   "execution_count": null,
   "metadata": {},
   "outputs": [],
   "source": [
    "#Función para cargar los proyectos de ley priorizados desde un archivo\n",
    "\n",
    "def load_prioritized_projects(excel_path):\n",
    "    df = pd.read_excel(excel_path)\n",
    "    return df['pl'].astype(str).tolist()  "
   ]
  },
  {
   "cell_type": "code",
   "execution_count": null,
   "metadata": {},
   "outputs": [],
   "source": [
    "#Función para buscar los proyectos de ley en el texto del PDF\n",
    "def find_projects_in_agenda(agenda_text, projects):\n",
    "    found_projects = []\n",
    "    for project in projects:\n",
    "        if project in agenda_text:\n",
    "            found_projects.append(project)\n",
    "\n",
    "    return found_projects"
   ]
  },
  {
   "cell_type": "code",
   "execution_count": null,
   "metadata": {},
   "outputs": [],
   "source": []
  },
  {
   "cell_type": "markdown",
   "metadata": {},
   "source": []
  }
 ],
 "metadata": {
  "kernelspec": {
   "display_name": "Python 3",
   "language": "python",
   "name": "python3"
  },
  "language_info": {
   "codemirror_mode": {
    "name": "ipython",
    "version": 3
   },
   "file_extension": ".py",
   "mimetype": "text/x-python",
   "name": "python",
   "nbconvert_exporter": "python",
   "pygments_lexer": "ipython3",
   "version": "3.11.4"
  }
 },
 "nbformat": 4,
 "nbformat_minor": 2
}
