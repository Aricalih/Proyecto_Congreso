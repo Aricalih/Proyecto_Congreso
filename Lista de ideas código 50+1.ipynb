{
 "cells": [
  {
   "cell_type": "markdown",
   "metadata": {},
   "source": [
    "# Lista de ideas para código:\n",
    "\n",
    "💠Lector de documentos pdf para identificar los keywords (N° de PL). Ej: Agenda del Pleno con proyectos de identificados (impacto).\n",
    "\n",
    "💠Webscrapping de la página del Congreso, para obtener data con Comisiones, autores, adherentes, Estado.\n",
    "\n",
    "💠Webscrapping para obtener lista de documentos con opinioness sobre los proyectos de ley.\n",
    "\n",
    "💠Webscrapiing para obtener la base de datos de Arca y Latam actualizada y para entregar automáticamente.\n"
   ]
  }
 ],
 "metadata": {
  "kernelspec": {
   "display_name": "base",
   "language": "python",
   "name": "python3"
  },
  "language_info": {
   "name": "python",
   "version": "3.11.5"
  }
 },
 "nbformat": 4,
 "nbformat_minor": 2
}
